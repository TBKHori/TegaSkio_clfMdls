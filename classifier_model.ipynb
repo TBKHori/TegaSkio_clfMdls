{
  "metadata": {
    "kernelspec": {
      "language": "python",
      "display_name": "Python 3",
      "name": "python3"
    },
    "language_info": {
      "name": "python",
      "version": "3.7.10",
      "mimetype": "text/x-python",
      "codemirror_mode": {
        "name": "ipython",
        "version": 3
      },
      "pygments_lexer": "ipython3",
      "nbconvert_exporter": "python",
      "file_extension": ".py"
    },
    "kaggle": {
      "accelerator": "gpu",
      "dataSources": [
        {
          "sourceId": 1897587,
          "sourceType": "datasetVersion",
          "datasetId": 1130776
        },
        {
          "sourceId": 2799435,
          "sourceType": "datasetVersion",
          "datasetId": 1701475
        },
        {
          "sourceId": 79016031,
          "sourceType": "kernelVersion"
        }
      ],
      "dockerImageVersionId": 30146,
      "isInternetEnabled": true,
      "language": "python",
      "sourceType": "notebook",
      "isGpuEnabled": true
    },
    "colab": {
      "provenance": []
    }
  },
  "nbformat_minor": 0,
  "nbformat": 4,
  "cells": [
    {
      "cell_type": "code",
      "source": [
        "import numpy as np\n",
        "import os\n",
        "from os.path import isfile\n",
        "import keras\n",
        "from keras.models import Sequential, Model\n",
        "from keras.layers import Input, Dense, Bidirectional, LSTM, Dropout, Activation, GRU\n",
        "from keras.layers import Conv2D, concatenate, MaxPooling2D, Flatten, Embedding, Lambda\n",
        "\n",
        "\n",
        "from keras.callbacks import ModelCheckpoint, TensorBoard, ReduceLROnPlateau\n",
        "from keras import backend as K\n",
        "from keras.utils import np_utils\n",
        "from tensorflow.keras.optimizers import Adam, RMSprop\n",
        "\n",
        "from keras import regularizers\n",
        "\n",
        "\n",
        "import librosa\n",
        "import librosa.display\n",
        "import matplotlib.pyplot as plt\n",
        "%matplotlib inline"
      ],
      "metadata": {
        "execution": {
          "iopub.status.busy": "2024-01-08T20:54:00.696327Z",
          "iopub.execute_input": "2024-01-08T20:54:00.696604Z",
          "iopub.status.idle": "2024-01-08T20:54:08.098560Z",
          "shell.execute_reply.started": "2024-01-08T20:54:00.696525Z",
          "shell.execute_reply": "2024-01-08T20:54:08.097475Z"
        },
        "trusted": true,
        "id": "obFbRC9bV-0T"
      },
      "execution_count": null,
      "outputs": []
    },
    {
      "cell_type": "markdown",
      "source": [
        "### Load training and Validation arrays"
      ],
      "metadata": {
        "id": "aSIJUAvNV-0X"
      }
    },
    {
      "cell_type": "code",
      "source": [
        "dict_genres = {'Electronic':0, 'Experimental':1, 'Folk':2, 'Hip-Hop':3,\n",
        "               'Instrumental':4,'International':5, 'Pop' :6, 'Rock': 7  }\n",
        "\n",
        "\n",
        "reverse_map = {v: k for k, v in dict_genres.items()}\n",
        "print(reverse_map)"
      ],
      "metadata": {
        "execution": {
          "iopub.status.busy": "2024-01-08T20:54:08.100532Z",
          "iopub.execute_input": "2024-01-08T20:54:08.100791Z",
          "iopub.status.idle": "2024-01-08T20:54:08.107125Z",
          "shell.execute_reply.started": "2024-01-08T20:54:08.100754Z",
          "shell.execute_reply": "2024-01-08T20:54:08.106225Z"
        },
        "trusted": true,
        "id": "R-_89FWKV-0Z",
        "outputId": "8489e00b-3f54-4d0f-8117-400c66e07e06"
      },
      "execution_count": null,
      "outputs": [
        {
          "name": "stdout",
          "text": "{0: 'Electronic', 1: 'Experimental', 2: 'Folk', 3: 'Hip-Hop', 4: 'Instrumental', 5: 'International', 6: 'Pop', 7: 'Rock'}\n",
          "output_type": "stream"
        }
      ]
    },
    {
      "cell_type": "code",
      "source": [
        "npzfile = np.load('../input/load-data1/shuffled_train.npz.npz（副本）')\n",
        "print(npzfile.files)\n",
        "X_train = npzfile['arr_0']\n",
        "y_train = npzfile['arr_1']\n",
        "print(X_train.shape, y_train.shape)"
      ],
      "metadata": {
        "execution": {
          "iopub.status.busy": "2024-01-08T20:54:08.109163Z",
          "iopub.execute_input": "2024-01-08T20:54:08.109525Z",
          "iopub.status.idle": "2024-01-08T20:54:44.389608Z",
          "shell.execute_reply.started": "2024-01-08T20:54:08.109455Z",
          "shell.execute_reply": "2024-01-08T20:54:44.388795Z"
        },
        "trusted": true,
        "id": "ff3tXIbeV-0c",
        "outputId": "edfe0152-0db0-4ca9-877c-dc4f9c160594"
      },
      "execution_count": null,
      "outputs": [
        {
          "name": "stdout",
          "text": "['arr_0', 'arr_1']\n(6394, 640, 128) (6394, 8)\n",
          "output_type": "stream"
        }
      ]
    },
    {
      "cell_type": "code",
      "source": [
        "npzfile = np.load('../input/load-data1/shuffled_valid.npz')\n",
        "print(npzfile.files)\n",
        "X_valid = npzfile['arr_0']\n",
        "y_valid = npzfile['arr_1']\n",
        "print(X_valid.shape, y_valid.shape)"
      ],
      "metadata": {
        "execution": {
          "iopub.status.busy": "2024-01-08T20:54:44.391944Z",
          "iopub.execute_input": "2024-01-08T20:54:44.392259Z",
          "iopub.status.idle": "2024-01-08T20:54:48.592442Z",
          "shell.execute_reply.started": "2024-01-08T20:54:44.392221Z",
          "shell.execute_reply": "2024-01-08T20:54:48.591580Z"
        },
        "trusted": true,
        "id": "_t7cvwz3V-0d",
        "outputId": "160734ef-d3da-45c5-b2d7-2260a99a4ea2"
      },
      "execution_count": null,
      "outputs": [
        {
          "name": "stdout",
          "text": "['arr_0', 'arr_1']\n(800, 640, 128) (800, 8)\n",
          "output_type": "stream"
        }
      ]
    },
    {
      "cell_type": "code",
      "source": [
        "X_train_list = []\n",
        "y_train_list = []\n",
        "for i,j in zip(X_train,y_train):\n",
        "    X_train_list.append(i[0:128])\n",
        "    X_train_list.append(i[128:256])\n",
        "    X_train_list.append(i[256:384])\n",
        "    X_train_list.append(i[384:512])\n",
        "    X_train_list.append(i[512:])\n",
        "    y_train_list.append(j)\n",
        "    y_train_list.append(j)\n",
        "    y_train_list.append(j)\n",
        "    y_train_list.append(j)\n",
        "    y_train_list.append(j)"
      ],
      "metadata": {
        "execution": {
          "iopub.status.busy": "2024-01-08T20:54:48.593771Z",
          "iopub.execute_input": "2024-01-08T20:54:48.594416Z",
          "iopub.status.idle": "2024-01-08T20:54:48.624403Z",
          "shell.execute_reply.started": "2024-01-08T20:54:48.594369Z",
          "shell.execute_reply": "2024-01-08T20:54:48.623556Z"
        },
        "trusted": true,
        "id": "vjBPwHWGV-0e"
      },
      "execution_count": null,
      "outputs": []
    },
    {
      "cell_type": "code",
      "source": [
        "X_train = np.array(X_train_list)\n",
        "y_train = np.array(y_train_list)\n",
        "X_train.shape,y_train.shape"
      ],
      "metadata": {
        "execution": {
          "iopub.status.busy": "2024-01-08T20:54:48.625794Z",
          "iopub.execute_input": "2024-01-08T20:54:48.626095Z",
          "iopub.status.idle": "2024-01-08T20:54:49.867762Z",
          "shell.execute_reply.started": "2024-01-08T20:54:48.626054Z",
          "shell.execute_reply": "2024-01-08T20:54:49.866896Z"
        },
        "trusted": true,
        "id": "Rpo3zB-rV-0f",
        "outputId": "3ed66aee-82e8-4bee-c45e-b0e91e8a3ab8"
      },
      "execution_count": null,
      "outputs": [
        {
          "execution_count": 6,
          "output_type": "execute_result",
          "data": {
            "text/plain": "((31970, 128, 128), (31970, 8))"
          },
          "metadata": {}
        }
      ]
    },
    {
      "cell_type": "code",
      "source": [
        "del X_train_list,y_train_list\n",
        "import gc\n",
        "gc.collect()"
      ],
      "metadata": {
        "execution": {
          "iopub.status.busy": "2024-01-08T20:54:49.869001Z",
          "iopub.execute_input": "2024-01-08T20:54:49.869288Z",
          "iopub.status.idle": "2024-01-08T20:54:50.082600Z",
          "shell.execute_reply.started": "2024-01-08T20:54:49.869249Z",
          "shell.execute_reply": "2024-01-08T20:54:50.081815Z"
        },
        "trusted": true,
        "id": "2OvYfPPeV-0h",
        "outputId": "776fe4c6-b7cb-4261-893f-647e60d13d27"
      },
      "execution_count": null,
      "outputs": [
        {
          "execution_count": 7,
          "output_type": "execute_result",
          "data": {
            "text/plain": "567"
          },
          "metadata": {}
        }
      ]
    },
    {
      "cell_type": "code",
      "source": [
        "X_valid_list = []\n",
        "y_valid_list = []\n",
        "for i,j in zip(X_valid,y_valid):\n",
        "    X_valid_list.append(i[0:128])\n",
        "    X_valid_list.append(i[128:256])\n",
        "    X_valid_list.append(i[256:384])\n",
        "    X_valid_list.append(i[384:512])\n",
        "    X_valid_list.append(i[512:])\n",
        "    y_valid_list.append(j)\n",
        "    y_valid_list.append(j)\n",
        "    y_valid_list.append(j)\n",
        "    y_valid_list.append(j)\n",
        "    y_valid_list.append(j)\n",
        "X_valid = np.array(X_valid_list)\n",
        "y_valid = np.array(y_valid_list)\n",
        "X_valid.shape,y_valid.shape\n",
        "\n",
        "del X_valid_list,y_valid_list\n",
        "import gc\n",
        "gc.collect()"
      ],
      "metadata": {
        "execution": {
          "iopub.status.busy": "2024-01-08T20:54:50.083780Z",
          "iopub.execute_input": "2024-01-08T20:54:50.084018Z",
          "iopub.status.idle": "2024-01-08T20:54:50.424390Z",
          "shell.execute_reply.started": "2024-01-08T20:54:50.083983Z",
          "shell.execute_reply": "2024-01-08T20:54:50.423547Z"
        },
        "trusted": true,
        "id": "S3Robeq6V-0i",
        "outputId": "76d65815-c663-4cc0-bb78-9b93f0a8225d"
      },
      "execution_count": null,
      "outputs": [
        {
          "execution_count": 8,
          "output_type": "execute_result",
          "data": {
            "text/plain": "23"
          },
          "metadata": {}
        }
      ]
    },
    {
      "cell_type": "markdown",
      "source": [
        "### Check by plotting a Spectogram"
      ],
      "metadata": {
        "id": "52h_sT6xV-0j"
      }
    },
    {
      "cell_type": "code",
      "source": [
        "num = 5300\n",
        "spectogram = X_train[num]\n",
        "genre = np.argmax(y_train[num])\n",
        "print(reverse_map[genre])\n",
        "plt.figure(figsize=(10, 5))\n",
        "librosa.display.specshow(spectogram.T, y_axis='mel', x_axis='time')\n",
        "plt.colorbar(format='%+2.0f dB')\n",
        "plt.title('Test Melspectogram')\n",
        "plt.tight_layout()"
      ],
      "metadata": {
        "execution": {
          "iopub.status.busy": "2024-01-08T20:54:50.425486Z",
          "iopub.execute_input": "2024-01-08T20:54:50.425715Z",
          "iopub.status.idle": "2024-01-08T20:54:50.923072Z",
          "shell.execute_reply.started": "2024-01-08T20:54:50.425685Z",
          "shell.execute_reply": "2024-01-08T20:54:50.922302Z"
        },
        "trusted": true,
        "id": "O6AjEfayV-0k",
        "outputId": "dc848951-8be2-4e5d-8b86-4a469445e5b6"
      },
      "execution_count": null,
      "outputs": [
        {
          "name": "stdout",
          "text": "Folk\n",
          "output_type": "stream"
        },
        {
          "output_type": "display_data",
          "data": {
            "text/plain": "<Figure size 720x360 with 2 Axes>",
            "image/png": "[encoded data removed]"
          },
          "metadata": {
            "needs_background": "light"
          }
        }
      ]
    },
    {
      "cell_type": "markdown",
      "source": [
        "## moded"
      ],
      "metadata": {
        "id": "stiZaRvrV-0l"
      }
    },
    {
      "cell_type": "code",
      "source": [
        "batch_size = 32\n",
        "num_classes = 8\n",
        "n_features = X_train.shape[2]\n",
        "n_time = X_train.shape[1]"
      ],
      "metadata": {
        "execution": {
          "iopub.status.busy": "2024-01-08T20:54:50.925676Z",
          "iopub.execute_input": "2024-01-08T20:54:50.925921Z",
          "iopub.status.idle": "2024-01-08T20:54:50.930349Z",
          "shell.execute_reply.started": "2024-01-08T20:54:50.925892Z",
          "shell.execute_reply": "2024-01-08T20:54:50.929515Z"
        },
        "trusted": true,
        "id": "LcrcTA2BV-0l"
      },
      "execution_count": null,
      "outputs": []
    },
    {
      "cell_type": "code",
      "source": [
        "import tensorflow as tf\n",
        "from tensorflow.keras.layers import Dropout, Flatten, Dense, GlobalAveragePooling2D\n",
        "\n",
        "from tensorflow.keras import backend as K\n",
        "K.clear_session()\n",
        "\n",
        "BATCH_SIZE = 64\n",
        "EPOCH_COUNT = 50\n",
        "L2_regularization = 0.001"
      ],
      "metadata": {
        "execution": {
          "iopub.status.busy": "2024-01-08T20:54:50.931411Z",
          "iopub.execute_input": "2024-01-08T20:54:50.931638Z",
          "iopub.status.idle": "2024-01-08T20:54:50.958449Z",
          "shell.execute_reply.started": "2024-01-08T20:54:50.931610Z",
          "shell.execute_reply": "2024-01-08T20:54:50.957566Z"
        },
        "trusted": true,
        "id": "MRvHyGiTV-0m"
      },
      "execution_count": null,
      "outputs": []
    },
    {
      "cell_type": "markdown",
      "source": [
        "### MobileNetV3"
      ],
      "metadata": {
        "id": "-qK03EcEV-0m"
      }
    },
    {
      "cell_type": "code",
      "source": [
        "MobileNetV3 = tf.keras.applications.MobileNetV3Small\n",
        "\n",
        "input_shape = (128,128, 1)\n",
        "model_input = Input(input_shape, name='input')\n",
        "\n",
        "input_layer =tf.keras.layers.Concatenate(axis=3)([model_input, model_input,model_input])\n",
        "\n",
        "\n",
        "inc_model = MobileNetV3(include_top=False)(input_layer)\n",
        "\n",
        "#Adding custom Layers\n",
        "# x = inc_model.output\n",
        "x = GlobalAveragePooling2D()(inc_model)\n",
        "x = Dense(1024, activation=\"relu\")(x)\n",
        "x = Dropout(0.5)(x)\n",
        "x = Dense(512, activation=\"relu\")(x)\n",
        "predictions = Dense(8, activation=\"softmax\")(x)\n",
        "\n",
        "# creating the final model\n",
        "model = Model(inputs=model_input, outputs=predictions)\n",
        "\n",
        "# Lock initial layers to do not be trained\n",
        "# for layer in model.layers[:20]:\n",
        "#     layer.trainable = False\n",
        "\n",
        "model.compile(optimizer=Adam(lr=0.0001)\n",
        "                    , loss='categorical_crossentropy'\n",
        "                    , metrics=['accuracy'])"
      ],
      "metadata": {
        "execution": {
          "iopub.status.busy": "2024-01-08T20:54:50.959529Z",
          "iopub.execute_input": "2024-01-08T20:54:50.959773Z",
          "iopub.status.idle": "2024-01-08T20:54:55.643669Z",
          "shell.execute_reply.started": "2024-01-08T20:54:50.959719Z",
          "shell.execute_reply": "2024-01-08T20:54:55.642909Z"
        },
        "trusted": true,
        "id": "5WFF9ICyV-0n",
        "outputId": "a2e3087d-9154-49f5-9443-cca7766cf2a6"
      },
      "execution_count": null,
      "outputs": [
        {
          "name": "stdout",
          "text": "Downloading data from https://storage.googleapis.com/tensorflow/keras-applications/mobilenet_v3/weights_mobilenet_v3_small_224_1.0_float_no_top.h5\n6701056/6698480 [==============================] - 0s 0us/step\n6709248/6698480 [==============================] - 0s 0us/step\n",
          "output_type": "stream"
        },
        {
          "name": "stderr",
          "text": "/opt/conda/lib/python3.7/site-packages/keras/optimizer_v2/optimizer_v2.py:356: UserWarning: The `lr` argument is deprecated, use `learning_rate` instead.\n  \"The `lr` argument is deprecated, use `learning_rate` instead.\")\n",
          "output_type": "stream"
        }
      ]
    },
    {
      "cell_type": "code",
      "source": [
        "checkpointer = ModelCheckpoint(filepath='weights.best.hdf5',\n",
        "                               verbose=1, save_best_only=True)\n",
        "\n",
        "history = model.fit(X_train, y_train,\n",
        "                              batch_size=8,\n",
        "                              epochs=EPOCH_COUNT,\n",
        "                              validation_data=(X_valid, y_valid),\n",
        "                              callbacks=[checkpointer],\n",
        "                              verbose=1\n",
        "                    )"
      ],
      "metadata": {
        "execution": {
          "iopub.status.busy": "2024-01-08T20:54:55.644800Z",
          "iopub.execute_input": "2024-01-08T20:54:55.645016Z",
          "iopub.status.idle": "2024-01-08T22:06:01.165063Z",
          "shell.execute_reply.started": "2024-01-08T20:54:55.644989Z",
          "shell.execute_reply": "2024-01-08T22:06:01.164225Z"
        },
        "trusted": true,
        "id": "9jrUbksCV-0n",
        "outputId": "5e6f184c-1146-40b5-9e2c-738fa16f976b"
      },
      "execution_count": null,
      "outputs": [
        {
          "name": "stdout",
          "text": "Epoch 1/50\n3997/3997 [==============================] - 100s 22ms/step - loss: 1.6252 - accuracy: 0.4125 - val_loss: 1.8616 - val_accuracy: 0.3453\n\nEpoch 00001: val_loss improved from inf to 1.86158, saving model to weights.best.hdf5\n",
          "output_type": "stream"
        },
        {
          "name": "stderr",
          "text": "/opt/conda/lib/python3.7/site-packages/keras/utils/generic_utils.py:497: CustomMaskWarning: Custom mask layers require a config and must override get_config. When loading, the custom mask layer must be passed to the custom_objects argument.\n  category=CustomMaskWarning)\n",
          "output_type": "stream"
        },
        {
          "name": "stdout",
          "text": "Epoch 2/50\n3997/3997 [==============================] - 85s 21ms/step - loss: 1.3826 - accuracy: 0.5130 - val_loss: 1.4478 - val_accuracy: 0.4840\n\nEpoch 00002: val_loss improved from 1.86158 to 1.44777, saving model to weights.best.hdf5\nEpoch 3/50\n3997/3997 [==============================] - 85s 21ms/step - loss: 1.2453 - accuracy: 0.5617 - val_loss: 1.4383 - val_accuracy: 0.4958\n\nEpoch 00003: val_loss improved from 1.44777 to 1.43830, saving model to weights.best.hdf5\nEpoch 4/50\n3997/3997 [==============================] - 87s 22ms/step - loss: 1.1431 - accuracy: 0.5954 - val_loss: 1.4477 - val_accuracy: 0.5325\n\nEpoch 00004: val_loss did not improve from 1.43830\nEpoch 5/50\n3997/3997 [==============================] - 86s 21ms/step - loss: 1.0476 - accuracy: 0.6309 - val_loss: 1.7292 - val_accuracy: 0.4078\n\nEpoch 00005: val_loss did not improve from 1.43830\nEpoch 6/50\n3997/3997 [==============================] - 85s 21ms/step - loss: 0.9549 - accuracy: 0.6619 - val_loss: 1.6256 - val_accuracy: 0.5023\n\nEpoch 00006: val_loss did not improve from 1.43830\nEpoch 7/50\n3997/3997 [==============================] - 85s 21ms/step - loss: 0.8089 - accuracy: 0.7132 - val_loss: 1.8017 - val_accuracy: 0.5153\n\nEpoch 00008: val_loss did not improve from 1.43830\nEpoch 9/50\n3997/3997 [==============================] - 85s 21ms/step - loss: 0.7364 - accuracy: 0.7382 - val_loss: 1.8536 - val_accuracy: 0.5015\n\nEpoch 00009: val_loss did not improve from 1.43830\nEpoch 10/50\n3997/3997 [==============================] - 85s 21ms/step - loss: 0.6741 - accuracy: 0.7607 - val_loss: 1.9625 - val_accuracy: 0.5245\n\nEpoch 00010: val_loss did not improve from 1.43830\nEpoch 11/50\n3997/3997 [==============================] - 86s 21ms/step - loss: 0.6148 - accuracy: 0.7796 - val_loss: 2.2695 - val_accuracy: 0.4873\n\nEpoch 00011: val_loss did not improve from 1.43830\nEpoch 12/50\n3997/3997 [==============================] - 86s 22ms/step - loss: 0.5584 - accuracy: 0.8030 - val_loss: 2.2270 - val_accuracy: 0.4988\n\nEpoch 00012: val_loss did not improve from 1.43830\nEpoch 13/50\n3997/3997 [==============================] - 86s 22ms/step - loss: 0.5194 - accuracy: 0.8151 - val_loss: 2.6245 - val_accuracy: 0.4818\n\nEpoch 00013: val_loss did not improve from 1.43830\nEpoch 14/50\n3997/3997 [==============================] - 87s 22ms/step - loss: 0.4697 - accuracy: 0.8346 - val_loss: 2.7909 - val_accuracy: 0.4640\n\nEpoch 00014: val_loss did not improve from 1.43830\nEpoch 15/50\n3997/3997 [==============================] - 86s 22ms/step - loss: 0.4237 - accuracy: 0.8483 - val_loss: 2.5991 - val_accuracy: 0.4843\n\nEpoch 00015: val_loss did not improve from 1.43830\nEpoch 16/50\n3997/3997 [==============================] - 86s 21ms/step - loss: 0.3954 - accuracy: 0.8597 - val_loss: 2.7193 - val_accuracy: 0.4823\n\nEpoch 00016: val_loss did not improve from 1.43830\nEpoch 17/50\n3997/3997 [==============================] - 85s 21ms/step - loss: 0.3649 - accuracy: 0.8712 - val_loss: 2.7341 - val_accuracy: 0.4615\n\nEpoch 00017: val_loss did not improve from 1.43830\nEpoch 18/50\n3997/3997 [==============================] - 85s 21ms/step - loss: 0.3341 - accuracy: 0.8820 - val_loss: 3.1135 - val_accuracy: 0.4548\n\nEpoch 00018: val_loss did not improve from 1.43830\nEpoch 19/50\n3997/3997 [==============================] - 85s 21ms/step - loss: 0.3165 - accuracy: 0.8906 - val_loss: 3.1723 - val_accuracy: 0.4683\n\nEpoch 00019: val_loss did not improve from 1.43830\nEpoch 20/50\n3997/3997 [==============================] - 86s 21ms/step - loss: 0.2942 - accuracy: 0.8974 - val_loss: 3.2684 - val_accuracy: 0.4403\n\nEpoch 00020: val_loss did not improve from 1.43830\nEpoch 21/50\n3997/3997 [==============================] - 86s 21ms/step - loss: 0.2721 - accuracy: 0.9055 - val_loss: 3.1947 - val_accuracy: 0.4895\n\nEpoch 00021: val_loss did not improve from 1.43830\nEpoch 22/50\n3997/3997 [==============================] - 86s 21ms/step - loss: 0.2605 - accuracy: 0.9069 - val_loss: 3.3690 - val_accuracy: 0.4830\n\nEpoch 00022: val_loss did not improve from 1.43830\nEpoch 23/50\n3997/3997 [==============================] - 85s 21ms/step - loss: 0.2376 - accuracy: 0.9180 - val_loss: 3.6640 - val_accuracy: 0.4683\n\nEpoch 00023: val_loss did not improve from 1.43830\nEpoch 24/50\n3997/3997 [==============================] - 84s 21ms/step - loss: 0.2280 - accuracy: 0.9204 - val_loss: 3.2452 - val_accuracy: 0.4825\n\nEpoch 00024: val_loss did not improve from 1.43830\nEpoch 25/50\n3997/3997 [==============================] - 85s 21ms/step - loss: 0.2139 - accuracy: 0.9251 - val_loss: 3.5851 - val_accuracy: 0.4695\n\nEpoch 00025: val_loss did not improve from 1.43830\nEpoch 26/50\n3997/3997 [==============================] - 85s 21ms/step - loss: 0.2089 - accuracy: 0.9280 - val_loss: 3.6519 - val_accuracy: 0.4665\n\nEpoch 00026: val_loss did not improve from 1.43830\nEpoch 27/50\n3997/3997 [==============================] - 84s 21ms/step - loss: 0.1946 - accuracy: 0.9323 - val_loss: 3.7476 - val_accuracy: 0.4660\n\nEpoch 00027: val_loss did not improve from 1.43830\nEpoch 28/50\n3997/3997 [==============================] - 85s 21ms/step - loss: 0.1879 - accuracy: 0.9356 - val_loss: 3.7975 - val_accuracy: 0.4600\n\nEpoch 00028: val_loss did not improve from 1.43830\nEpoch 29/50\n3997/3997 [==============================] - 84s 21ms/step - loss: 0.1767 - accuracy: 0.9390 - val_loss: 3.5328 - val_accuracy: 0.4865\n\nEpoch 00029: val_loss did not improve from 1.43830\nEpoch 30/50\n3997/3997 [==============================] - 84s 21ms/step - loss: 0.1675 - accuracy: 0.9427 - val_loss: 3.8310 - val_accuracy: 0.5002\n\nEpoch 00030: val_loss did not improve from 1.43830\nEpoch 31/50\n3997/3997 [==============================] - 84s 21ms/step - loss: 0.1643 - accuracy: 0.9428 - val_loss: 4.0353 - val_accuracy: 0.4750\n\nEpoch 00031: val_loss did not improve from 1.43830\nEpoch 32/50\n3997/3997 [==============================] - 84s 21ms/step - loss: 0.1537 - accuracy: 0.9473 - val_loss: 4.1367 - val_accuracy: 0.4613\n\nEpoch 00032: val_loss did not improve from 1.43830\nEpoch 33/50\n3997/3997 [==============================] - 85s 21ms/step - loss: 0.1523 - accuracy: 0.9477 - val_loss: 3.6106 - val_accuracy: 0.4703\n\nEpoch 00033: val_loss did not improve from 1.43830\nEpoch 34/50\n3997/3997 [==============================] - 84s 21ms/step - loss: 0.1407 - accuracy: 0.9517 - val_loss: 4.1849 - val_accuracy: 0.4793\n\nEpoch 00034: val_loss did not improve from 1.43830\nEpoch 35/50\n3997/3997 [==============================] - 84s 21ms/step - loss: 0.1499 - accuracy: 0.9495 - val_loss: 4.1544 - val_accuracy: 0.4720\n\nEpoch 00035: val_loss did not improve from 1.43830\nEpoch 36/50\n3997/3997 [==============================] - 84s 21ms/step - loss: 0.1349 - accuracy: 0.9544 - val_loss: 4.4209 - val_accuracy: 0.4615\n\nEpoch 00036: val_loss did not improve from 1.43830\nEpoch 37/50\n3997/3997 [==============================] - 84s 21ms/step - loss: 0.1345 - accuracy: 0.9547 - val_loss: 4.9453 - val_accuracy: 0.4395\n\nEpoch 00037: val_loss did not improve from 1.43830\nEpoch 38/50\n3997/3997 [==============================] - 84s 21ms/step - loss: 0.1272 - accuracy: 0.9575 - val_loss: 4.1449 - val_accuracy: 0.4723\n\nEpoch 00038: val_loss did not improve from 1.43830\nEpoch 39/50\n3997/3997 [==============================] - 84s 21ms/step - loss: 0.1265 - accuracy: 0.9571 - val_loss: 4.2967 - val_accuracy: 0.4725\n\nEpoch 00039: val_loss did not improve from 1.43830\nEpoch 40/50\n3997/3997 [==============================] - 84s 21ms/step - loss: 0.1179 - accuracy: 0.9595 - val_loss: 4.5640 - val_accuracy: 0.4585\n\nEpoch 00040: val_loss did not improve from 1.43830\nEpoch 41/50\n3997/3997 [==============================] - 84s 21ms/step - loss: 0.1231 - accuracy: 0.9588 - val_loss: 4.4481 - val_accuracy: 0.4848\n\nEpoch 00041: val_loss did not improve from 1.43830\nEpoch 42/50\n3997/3997 [==============================] - 84s 21ms/step - loss: 0.1221 - accuracy: 0.9592 - val_loss: 4.5944 - val_accuracy: 0.4745\n\nEpoch 00042: val_loss did not improve from 1.43830\nEpoch 43/50\n3997/3997 [==============================] - 85s 21ms/step - loss: 0.1149 - accuracy: 0.9613 - val_loss: 4.8156 - val_accuracy: 0.4575\n\nEpoch 00043: val_loss did not improve from 1.43830\nEpoch 44/50\n3997/3997 [==============================] - 84s 21ms/step - loss: 0.1106 - accuracy: 0.9629 - val_loss: 4.6710 - val_accuracy: 0.4630\n\nEpoch 00044: val_loss did not improve from 1.43830\nEpoch 45/50\n3997/3997 [==============================] - 84s 21ms/step - loss: 0.1094 - accuracy: 0.9637 - val_loss: 4.4631 - val_accuracy: 0.4865\n\nEpoch 00045: val_loss did not improve from 1.43830\nEpoch 46/50\n3997/3997 [==============================] - 84s 21ms/step - loss: 0.1055 - accuracy: 0.9642 - val_loss: 4.5675 - val_accuracy: 0.4960\n\nEpoch 00046: val_loss did not improve from 1.43830\nEpoch 47/50\n3997/3997 [==============================] - 84s 21ms/step - loss: 0.1071 - accuracy: 0.9643 - val_loss: 4.5239 - val_accuracy: 0.4877\n\nEpoch 00047: val_loss did not improve from 1.43830\nEpoch 48/50\n3997/3997 [==============================] - 84s 21ms/step - loss: 0.1024 - accuracy: 0.9662 - val_loss: 4.8994 - val_accuracy: 0.4510\n\nEpoch 00048: val_loss did not improve from 1.43830\nEpoch 49/50\n3997/3997 [==============================] - 84s 21ms/step - loss: 0.1017 - accuracy: 0.9662 - val_loss: 4.5457 - val_accuracy: 0.4848\n\nEpoch 00049: val_loss did not improve from 1.43830\nEpoch 50/50\n3997/3997 [==============================] - 84s 21ms/step - loss: 0.1004 - accuracy: 0.9651 - val_loss: 5.1200 - val_accuracy: 0.4627\n\nEpoch 00050: val_loss did not improve from 1.43830\n",
          "output_type": "stream"
        }
      ]
    },
    {
      "cell_type": "markdown",
      "source": [
        "### ShuffleNet"
      ],
      "metadata": {
        "id": "3WS54QPxV-0o"
      }
    },
    {
      "cell_type": "code",
      "source": [
        "# !pip install keras_applications"
      ],
      "metadata": {
        "execution": {
          "iopub.status.busy": "2024-01-08T22:06:01.166580Z",
          "iopub.execute_input": "2024-01-08T22:06:01.166817Z",
          "iopub.status.idle": "2024-01-08T22:06:01.172363Z",
          "shell.execute_reply.started": "2024-01-08T22:06:01.166788Z",
          "shell.execute_reply": "2024-01-08T22:06:01.171691Z"
        },
        "trusted": true,
        "id": "-0Nc9jHVV-0o"
      },
      "execution_count": null,
      "outputs": []
    },
    {
      "cell_type": "code",
      "source": [
        "# import numpy as np\n",
        "# from tensorflow.keras.utils import plot_model\n",
        "# from keras_applications.imagenet_utils import _obtain_input_shape\n",
        "# from tensorflow.keras.utils import get_source_inputs\n",
        "# from tensorflow.keras.layers import Input, Conv2D, MaxPool2D, GlobalMaxPooling2D, GlobalAveragePooling2D\n",
        "# from tensorflow.keras.layers import Activation, Dense\n",
        "# from tensorflow.keras.models import Model\n",
        "# import keras.backend as K\n",
        "# from shutil import copyfile\n",
        "\n",
        "# # copy our file into the working directory (make sure it has .py suffix)\n",
        "# copyfile(src = \"../input/utils/utils2.py\", dst = \"../working/utils2.py\")\n",
        "\n",
        "# from utils2 import block"
      ],
      "metadata": {
        "execution": {
          "iopub.status.busy": "2024-01-08T22:06:01.173636Z",
          "iopub.execute_input": "2024-01-08T22:06:01.173937Z",
          "iopub.status.idle": "2024-01-08T22:06:01.190180Z",
          "shell.execute_reply.started": "2024-01-08T22:06:01.173900Z",
          "shell.execute_reply": "2024-01-08T22:06:01.189464Z"
        },
        "trusted": true,
        "id": "BjhVZATVV-0o"
      },
      "execution_count": null,
      "outputs": []
    },
    {
      "cell_type": "code",
      "source": [
        "# def ShuffleNetV2(include_top=True,\n",
        "#                  input_tensor=None,\n",
        "#                  scale_factor=1.0,\n",
        "#                  pooling='max',\n",
        "#                  input_shape=(224,224,3),\n",
        "#                  load_model=None,\n",
        "#                  num_shuffle_units=[3,7,3],\n",
        "#                  bottleneck_ratio=1,\n",
        "#                  classes=1000):\n",
        "#     if K.backend() != 'tensorflow':\n",
        "#         raise RuntimeError('Only tensorflow supported for now')\n",
        "#     name = 'ShuffleNetV2_{}_{}_{}'.format(scale_factor, bottleneck_ratio, \"\".join([str(x) for x in num_shuffle_units]))\n",
        "#     input_shape = _obtain_input_shape(input_shape, default_size=224, min_size=28, require_flatten=include_top,\n",
        "#                                       data_format=K.image_data_format())\n",
        "#     out_dim_stage_two = {0.5:48, 1:116, 1.5:176, 2:244}\n",
        "\n",
        "#     if pooling not in ['max', 'avg']:\n",
        "#         raise ValueError('Invalid value for pooling')\n",
        "#     if not (float(scale_factor)*4).is_integer():\n",
        "#         raise ValueError('Invalid value for scale_factor, should be x over 4')\n",
        "#     exp = np.insert(np.arange(len(num_shuffle_units), dtype=np.float32), 0, 0)  # [0., 0., 1., 2.]\n",
        "#     out_channels_in_stage = 2**exp\n",
        "#     out_channels_in_stage *= out_dim_stage_two[bottleneck_ratio]  #  calculate output channels for each stage\n",
        "#     out_channels_in_stage[0] = 24  # first stage has always 24 output channels\n",
        "#     out_channels_in_stage *= scale_factor\n",
        "#     out_channels_in_stage = out_channels_in_stage.astype(int)\n",
        "\n",
        "#     if input_tensor is None:\n",
        "#         img_input = Input(shape=input_shape)\n",
        "#     else:\n",
        "#         if not K.is_keras_tensor(input_tensor):\n",
        "#             img_input = Input(tensor=input_tensor, shape=input_shape)\n",
        "#         else:\n",
        "#             img_input = input_tensor\n",
        "\n",
        "#     # create shufflenet architecture\n",
        "#     x = Conv2D(filters=out_channels_in_stage[0], kernel_size=(3, 3), padding='same', use_bias=False, strides=(2, 2),\n",
        "#                activation='relu', name='conv1')(img_input)\n",
        "#     x = MaxPool2D(pool_size=(3, 3), strides=(2, 2), padding='same', name='maxpool1')(x)\n",
        "\n",
        "#     # create stages containing shufflenet units beginning at stage 2\n",
        "#     for stage in range(len(num_shuffle_units)):\n",
        "#         repeat = num_shuffle_units[stage]\n",
        "#         x = block(x, out_channels_in_stage,\n",
        "#                    repeat=repeat,\n",
        "#                    bottleneck_ratio=bottleneck_ratio,\n",
        "#                    stage=stage + 2)\n",
        "\n",
        "#     if bottleneck_ratio < 2:\n",
        "#         k = 1024\n",
        "#     else:\n",
        "#         k = 2048\n",
        "#     x = Conv2D(k, kernel_size=1, padding='same', strides=1, name='1x1conv5_out', activation='relu')(x)\n",
        "\n",
        "#     if pooling == 'avg':\n",
        "#         x = GlobalAveragePooling2D(name='global_avg_pool')(x)\n",
        "#     elif pooling == 'max':\n",
        "#         x = GlobalMaxPooling2D(name='global_max_pool')(x)\n",
        "\n",
        "#     if include_top:\n",
        "#         x = Dense(classes, name='fc')(x)\n",
        "#         x = Activation('softmax', name='softmax')(x)\n",
        "\n",
        "#     if input_tensor:\n",
        "#         inputs = get_source_inputs(input_tensor)\n",
        "\n",
        "#     else:\n",
        "#         inputs = img_input\n",
        "\n",
        "#     model = Model(inputs, x, name=name)\n",
        "\n",
        "#     if load_model:\n",
        "#         model.load_weights('', by_name=True)\n",
        "\n",
        "#     return model"
      ],
      "metadata": {
        "execution": {
          "iopub.status.busy": "2024-01-08T22:06:01.191297Z",
          "iopub.execute_input": "2024-01-08T22:06:01.191579Z",
          "iopub.status.idle": "2024-01-08T22:06:01.203628Z",
          "shell.execute_reply.started": "2024-01-08T22:06:01.191541Z",
          "shell.execute_reply": "2024-01-08T22:06:01.202914Z"
        },
        "trusted": true,
        "id": "ovfJHgV6V-0o"
      },
      "execution_count": null,
      "outputs": []
    },
    {
      "cell_type": "code",
      "source": [
        "from tensorflow.keras import backend as K\n",
        "K.clear_session()"
      ],
      "metadata": {
        "execution": {
          "iopub.status.busy": "2024-01-08T22:06:01.204619Z",
          "iopub.execute_input": "2024-01-08T22:06:01.204886Z",
          "iopub.status.idle": "2024-01-08T22:06:01.244363Z",
          "shell.execute_reply.started": "2024-01-08T22:06:01.204851Z",
          "shell.execute_reply": "2024-01-08T22:06:01.243776Z"
        },
        "trusted": true,
        "id": "Hqdm29iqV-0p"
      },
      "execution_count": null,
      "outputs": []
    },
    {
      "cell_type": "code",
      "source": [
        "# input_shape = (128,128, 1)\n",
        "# model_input = Input(input_shape, name='input')\n",
        "\n",
        "# input_layer =tf.keras.layers.Concatenate(axis=3)([model_input, model_input,model_input])\n",
        "\n",
        "\n",
        "# inc_model = ShuffleNetV2(include_top=False, input_shape=(128,128, 3),load_model=None, classes=8)(input_layer)\n",
        "# #Adding custom Layers\n",
        "# # x = inc_model.output\n",
        "# #x = GlobalAveragePooling2D()(inc_model)\n",
        "# x = Dense(1024, activation=\"relu\")(inc_model)\n",
        "# x = Dropout(0.5)(x)\n",
        "# x = Dense(512, activation=\"relu\")(x)\n",
        "# x = Dropout(0.5)(x)\n",
        "# x = Dense(256, activation=\"relu\")(x)\n",
        "# predictions = Dense(8, activation=\"softmax\")(x)\n",
        "\n",
        "# # creating the final model\n",
        "# model = Model(inputs=model_input, outputs=predictions)\n",
        "\n",
        "# #Lock initial layers to do not be trained\n",
        "# # for layer in model.layers[:50]:\n",
        "# #     layer.trainable = False\n",
        "\n",
        "# model.compile(optimizer=Adam(lr=0.0001)\n",
        "#                     , loss='categorical_crossentropy'\n",
        "#                     , metrics=['accuracy'])"
      ],
      "metadata": {
        "execution": {
          "iopub.status.busy": "2024-01-08T22:06:01.246572Z",
          "iopub.execute_input": "2024-01-08T22:06:01.247085Z",
          "iopub.status.idle": "2024-01-08T22:06:01.251363Z",
          "shell.execute_reply.started": "2024-01-08T22:06:01.247045Z",
          "shell.execute_reply": "2024-01-08T22:06:01.250563Z"
        },
        "trusted": true,
        "id": "FHT3VUV3V-0p"
      },
      "execution_count": null,
      "outputs": []
    },
    {
      "cell_type": "code",
      "source": [
        "# model.summary()"
      ],
      "metadata": {
        "execution": {
          "iopub.status.busy": "2024-01-08T22:06:01.252360Z",
          "iopub.execute_input": "2024-01-08T22:06:01.252606Z",
          "iopub.status.idle": "2024-01-08T22:06:01.263912Z",
          "shell.execute_reply.started": "2024-01-08T22:06:01.252576Z",
          "shell.execute_reply": "2024-01-08T22:06:01.263178Z"
        },
        "trusted": true,
        "id": "JSKK1_iaV-0p"
      },
      "execution_count": null,
      "outputs": []
    },
    {
      "cell_type": "code",
      "source": [
        "# checkpointer = ModelCheckpoint(filepath='weights.best.hdf5',\n",
        "#                                verbose=1, save_best_only=True)\n",
        "\n",
        "# history = model.fit(X_train, y_train,\n",
        "#                               batch_size=8,\n",
        "#                               epochs=EPOCH_COUNT,\n",
        "#                               validation_data=(X_valid, y_valid),\n",
        "#                               callbacks=[checkpointer],\n",
        "#                               verbose=1\n",
        "#                     )"
      ],
      "metadata": {
        "execution": {
          "iopub.status.busy": "2024-01-08T22:06:01.265125Z",
          "iopub.execute_input": "2024-01-08T22:06:01.265412Z",
          "iopub.status.idle": "2024-01-08T22:06:01.273413Z",
          "shell.execute_reply.started": "2024-01-08T22:06:01.265374Z",
          "shell.execute_reply": "2024-01-08T22:06:01.272819Z"
        },
        "trusted": true,
        "id": "ctNM9WsiV-0q"
      },
      "execution_count": null,
      "outputs": []
    },
    {
      "cell_type": "code",
      "source": [
        "from tensorflow.keras import backend as K\n",
        "K.clear_session()"
      ],
      "metadata": {
        "execution": {
          "iopub.status.busy": "2024-01-08T22:06:01.274300Z",
          "iopub.execute_input": "2024-01-08T22:06:01.274509Z",
          "iopub.status.idle": "2024-01-08T22:06:01.284397Z",
          "shell.execute_reply.started": "2024-01-08T22:06:01.274483Z",
          "shell.execute_reply": "2024-01-08T22:06:01.283789Z"
        },
        "trusted": true,
        "id": "FYDwtumkV-0q"
      },
      "execution_count": null,
      "outputs": []
    },
    {
      "cell_type": "markdown",
      "source": [
        "### efficientnetv2"
      ],
      "metadata": {
        "id": "OINsE3SmV-0r"
      }
    },
    {
      "cell_type": "code",
      "source": [
        "# !pip install -U git+https://github.com/leondgarse/keras_efficientnet_v2"
      ],
      "metadata": {
        "execution": {
          "iopub.status.busy": "2024-01-08T22:06:01.285294Z",
          "iopub.execute_input": "2024-01-08T22:06:01.285497Z",
          "iopub.status.idle": "2024-01-08T22:06:01.293129Z",
          "shell.execute_reply.started": "2024-01-08T22:06:01.285472Z",
          "shell.execute_reply": "2024-01-08T22:06:01.292517Z"
        },
        "trusted": true,
        "id": "n24fhTXmV-0r"
      },
      "execution_count": null,
      "outputs": []
    },
    {
      "cell_type": "code",
      "source": [
        "# import keras_efficientnet_v2\n",
        "# import tensorflow as tf\n",
        "\n",
        "# input_shape = (640,128, 1)\n",
        "# model_input = Input(input_shape, name='input')\n",
        "\n",
        "# input_layer =tf.keras.layers.Concatenate(axis=3)([model_input, model_input,model_input])\n",
        "\n",
        "\n",
        "# inc_model = keras_efficientnet_v2.EfficientNetV2B0(input_shape=(None, None, 3),drop_connect_rate=0.5, num_classes=0, pretrained=\"imagenet21k-ft1k\")(input_layer)\n",
        "\n",
        "# #Adding custom Layers\n",
        "# # x = inc_model.output\n",
        "# x = GlobalAveragePooling2D()(inc_model)\n",
        "# x = Dense(1024, activation=\"relu\")(x)\n",
        "# x = Dropout(0.5)(x)\n",
        "# x = Dense(512, activation=\"relu\")(x)\n",
        "# x = Dropout(0.5)(x)\n",
        "# x = Dense(256, activation=\"relu\")(x)\n",
        "# predictions = Dense(8, activation=\"softmax\")(x)\n",
        "\n",
        "# # creating the final model\n",
        "# model = Model(inputs=model_input, outputs=predictions)\n",
        "\n",
        "# #Lock initial layers to do not be trained\n",
        "# # for layer in model.layers[:50]:\n",
        "# #     layer.trainable = False\n",
        "\n",
        "# model.compile(optimizer=Adam(lr=0.0001)\n",
        "#                     , loss='categorical_crossentropy'\n",
        "#                     , metrics=['accuracy'])"
      ],
      "metadata": {
        "execution": {
          "iopub.status.busy": "2024-01-08T22:06:01.293996Z",
          "iopub.execute_input": "2024-01-08T22:06:01.294177Z",
          "iopub.status.idle": "2024-01-08T22:06:01.303466Z",
          "shell.execute_reply.started": "2024-01-08T22:06:01.294154Z",
          "shell.execute_reply": "2024-01-08T22:06:01.302780Z"
        },
        "trusted": true,
        "id": "6hY0zRieV-0r"
      },
      "execution_count": null,
      "outputs": []
    },
    {
      "cell_type": "code",
      "source": [
        "# model.summary()"
      ],
      "metadata": {
        "execution": {
          "iopub.status.busy": "2024-01-08T22:06:01.304385Z",
          "iopub.execute_input": "2024-01-08T22:06:01.304584Z",
          "iopub.status.idle": "2024-01-08T22:06:01.316277Z",
          "shell.execute_reply.started": "2024-01-08T22:06:01.304547Z",
          "shell.execute_reply": "2024-01-08T22:06:01.315629Z"
        },
        "trusted": true,
        "id": "G6FjxTFEV-0s"
      },
      "execution_count": null,
      "outputs": []
    },
    {
      "cell_type": "code",
      "source": [
        "# checkpointer = ModelCheckpoint(filepath='weights.best.hdf5',\n",
        "#                                verbose=1, save_best_only=True)\n",
        "\n",
        "# history = model.fit(X_train, y_train,\n",
        "#                               batch_size=BATCH_SIZE,\n",
        "#                               epochs=EPOCH_COUNT,\n",
        "#                               validation_data=(X_valid, y_valid),\n",
        "#                               callbacks=[checkpointer],\n",
        "#                               verbose=1\n",
        "#                     )"
      ],
      "metadata": {
        "execution": {
          "iopub.status.busy": "2024-01-08T22:06:01.317302Z",
          "iopub.execute_input": "2024-01-08T22:06:01.317851Z",
          "iopub.status.idle": "2024-01-08T22:06:01.325935Z",
          "shell.execute_reply.started": "2024-01-08T22:06:01.317814Z",
          "shell.execute_reply": "2024-01-08T22:06:01.325216Z"
        },
        "trusted": true,
        "id": "KLZqszWLV-0s"
      },
      "execution_count": null,
      "outputs": []
    },
    {
      "cell_type": "markdown",
      "source": [
        "bset 0.6313"
      ],
      "metadata": {
        "id": "h8w2qAr3V-0s"
      }
    },
    {
      "cell_type": "code",
      "source": [
        "# nb_filters1=16\n",
        "# nb_filters2=32\n",
        "# nb_filters3=64\n",
        "# nb_filters4=64\n",
        "# nb_filters5=64\n",
        "# ksize = (3,1)p'\n",
        "# pool_size_1= (2,2)\n",
        "# pool_size_2= (4,4)\n",
        "# pool_size_3 = (4,2)\n",
        "\n",
        "# dropout_prob = 0.20\n",
        "# dense_size1 = 128\n",
        "# lstm_count = 64\n",
        "# num_units = 120\n",
        "\n",
        "# BATCH_SIZE = 64\n",
        "# EPOCH_COUNT = 50\n",
        "# L2_regularization = 0.001\n",
        "\n",
        "# def conv_recurrent_model_build(model_input):\n",
        "#     print('Building model...')\n",
        "#     layer = model_input\n",
        "\n",
        "#     ### Convolutional blocks\n",
        "#     conv_1 = Conv2D(filters = nb_filters1, kernel_size = ksize, strides=1,\n",
        "#                       padding= 'valid', activation='relu', name='conv_1')(layer)\n",
        "#     pool_1 = MaxPooling2D(pool_size_1)(conv_1)\n",
        "\n",
        "#     conv_2 = Conv2D(filters = nb_filters2, kernel_size = ksize, strides=1,\n",
        "#                       padding= 'valid', activation='relu', name='conv_2')(pool_1)\n",
        "#     pool_2 = MaxPooling2D(pool_size_1)(conv_2)\n",
        "\n",
        "#     conv_3 = Conv2D(filters = nb_filters3, kernel_size = ksize, strides=1,\n",
        "#                       padding= 'valid', activation='relu', name='conv_3')(pool_2)\n",
        "#     pool_3 = MaxPooling2D(pool_size_1)(conv_3)\n",
        "\n",
        "\n",
        "#     conv_4 = Conv2D(filters = nb_filters4, kernel_size = ksize, strides=1,\n",
        "#                       padding= 'valid', activation='relu', name='conv_4')(pool_3)\n",
        "#     pool_4 = MaxPooling2D(pool_size_2)(conv_4)\n",
        "\n",
        "\n",
        "#     conv_5 = Conv2D(filters = nb_filters5, kernel_size = ksize, strides=1,\n",
        "#                       padding= 'valid', activation='relu', name='conv_5')(pool_4)\n",
        "#     pool_5 = MaxPooling2D(pool_size_2)(conv_5)\n",
        "\n",
        "#     flatten1 = Flatten()(pool_5)\n",
        "#     ### Recurrent Block\n",
        "\n",
        "#     # Pooling layer\n",
        "#     pool_lstm1 = MaxPooling2D(pool_size_3, name = 'pool_lstm')(layer)\n",
        "\n",
        "#     # Embedding layer\n",
        "\n",
        "#     squeezed = Lambda(lambda x: K.squeeze(x, axis= -1))(pool_lstm1)\n",
        "# #     flatten2 = K.squeeze(pool_lstm1, axis = -1)\n",
        "# #     dense1 = Dense(dense_size1)(flatten)\n",
        "\n",
        "#     # Bidirectional GRU\n",
        "#     lstm = Bidirectional(GRU(lstm_count))(squeezed)  #default merge mode is concat\n",
        "\n",
        "#     # Concat Output\n",
        "#     concat = concatenate([flatten1, lstm], axis=-1, name ='concat')\n",
        "\n",
        "#     ## Softmax Output\n",
        "#     output = Dense(num_classes, activation = 'softmax', name='preds')(concat)\n",
        "\n",
        "#     model_output = output\n",
        "#     model = Model(model_input, model_output)\n",
        "\n",
        "# #     opt = Adam(lr=0.001)\n",
        "#     opt = RMSprop(lr=0.0005)  # Optimizer\n",
        "#     model.compile(\n",
        "#             loss='categorical_crossentropy',\n",
        "#             optimizer=opt,\n",
        "#             metrics=['accuracy']\n",
        "#         )\n",
        "\n",
        "#     print(model.summary())\n",
        "#     return model"
      ],
      "metadata": {
        "execution": {
          "iopub.status.busy": "2024-01-08T22:06:01.327127Z",
          "iopub.execute_input": "2024-01-08T22:06:01.327421Z",
          "iopub.status.idle": "2024-01-08T22:06:01.336617Z",
          "shell.execute_reply.started": "2024-01-08T22:06:01.327384Z",
          "shell.execute_reply": "2024-01-08T22:06:01.335769Z"
        },
        "trusted": true,
        "id": "JUXCIejqV-0t"
      },
      "execution_count": null,
      "outputs": []
    },
    {
      "cell_type": "code",
      "source": [
        "# def train_model(x_train, y_train, x_val, y_val):\n",
        "\n",
        "#     n_frequency = 128\n",
        "#     n_frames = 640\n",
        "#     #reshape and expand dims for conv2d\n",
        "# #     x_train = x_train.reshape(-1, n_frequency, n_frames)\n",
        "#     x_train = np.expand_dims(x_train, axis = -1)\n",
        "\n",
        "\n",
        "# #     x_val = x_val.reshape(-1, n_frequency, n_frames)\n",
        "#     x_val = np.expand_dims(x_val, axis = -1)\n",
        "\n",
        "\n",
        "#     input_shape = (n_frames, n_frequency, 1)\n",
        "#     model_input = Input(input_shape, name='input')\n",
        "\n",
        "#     model = conv_recurrent_model_build(model_input)\n",
        "\n",
        "# #     tb_callback = TensorBoard(log_dir='./logs/4', histogram_freq=1, batch_size=32, write_graph=True, write_grads=False,\n",
        "# #                               write_images=False, embeddings_freq=0, embeddings_layer_names=None,\n",
        "# #                               embeddings_metadata=None)\n",
        "#     checkpoint_callback = ModelCheckpoint('./weights.best.h5', monitor='val_acc', verbose=1,\n",
        "#                                           save_best_only=True, mode='max')\n",
        "\n",
        "#     reducelr_callback = ReduceLROnPlateau(\n",
        "#                 monitor='val_acc', factor=0.5, patience=10, min_delta=0.01,\n",
        "#                 verbose=1\n",
        "#             )\n",
        "#     callbacks_list = [checkpoint_callback, reducelr_callback]\n",
        "\n",
        "#     # Fit the model and get training history.\n",
        "#     print('Training...')\n",
        "#     history = model.fit(x_train, y_train, batch_size=BATCH_SIZE, epochs=EPOCH_COUNT,\n",
        "#                         validation_data=(x_val, y_val), verbose=1, callbacks=callbacks_list)\n",
        "\n",
        "#     return model, history\n"
      ],
      "metadata": {
        "execution": {
          "iopub.status.busy": "2024-01-08T22:06:01.338401Z",
          "iopub.execute_input": "2024-01-08T22:06:01.338981Z",
          "iopub.status.idle": "2024-01-08T22:06:01.349620Z",
          "shell.execute_reply.started": "2024-01-08T22:06:01.338942Z",
          "shell.execute_reply": "2024-01-08T22:06:01.348853Z"
        },
        "trusted": true,
        "id": "_3QEq75CV-0t"
      },
      "execution_count": null,
      "outputs": []
    },
    {
      "cell_type": "code",
      "source": [
        "def show_summary_stats(history):\n",
        "    # List all data in history\n",
        "    print(history.history.keys())\n",
        "\n",
        "    # Summarize history for accuracy\n",
        "    plt.plot(history.history['accuracy'])\n",
        "    plt.plot(history.history['val_accuracy'])\n",
        "    plt.title('model accuracy')\n",
        "    plt.ylabel('accuracy')\n",
        "    plt.xlabel('epoch')\n",
        "    plt.legend(['train', 'test'], loc='upper left')\n",
        "    plt.show()\n",
        "\n",
        "    # Summarize history for loss\n",
        "    plt.plot(history.history['loss'])\n",
        "    plt.plot(history.history['val_loss'])\n",
        "    plt.title('model loss')\n",
        "    plt.ylabel('loss')\n",
        "    plt.xlabel('epoch')\n",
        "    plt.legend(['train', 'test'], loc='upper left')\n",
        "    plt.show()"
      ],
      "metadata": {
        "execution": {
          "iopub.status.busy": "2024-01-08T22:06:01.355231Z",
          "iopub.execute_input": "2024-01-08T22:06:01.355493Z",
          "iopub.status.idle": "2024-01-08T22:06:01.364774Z",
          "shell.execute_reply.started": "2024-01-08T22:06:01.355461Z",
          "shell.execute_reply": "2024-01-08T22:06:01.364159Z"
        },
        "trusted": true,
        "id": "8fIl81xPV-0u"
      },
      "execution_count": null,
      "outputs": []
    },
    {
      "cell_type": "code",
      "source": [
        "# model, history  = train_model(X_train, y_train, X_valid, y_valid)"
      ],
      "metadata": {
        "execution": {
          "iopub.status.busy": "2024-01-08T22:06:01.365716Z",
          "iopub.execute_input": "2024-01-08T22:06:01.365985Z",
          "iopub.status.idle": "2024-01-08T22:06:01.377057Z",
          "shell.execute_reply.started": "2024-01-08T22:06:01.365957Z",
          "shell.execute_reply": "2024-01-08T22:06:01.376455Z"
        },
        "trusted": true,
        "id": "dG3HgBcKV-0u"
      },
      "execution_count": null,
      "outputs": []
    },
    {
      "cell_type": "code",
      "source": [
        "show_summary_stats(history)"
      ],
      "metadata": {
        "execution": {
          "iopub.status.busy": "2024-01-08T22:06:01.377981Z",
          "iopub.execute_input": "2024-01-08T22:06:01.378183Z",
          "iopub.status.idle": "2024-01-08T22:06:01.835712Z",
          "shell.execute_reply.started": "2024-01-08T22:06:01.378159Z",
          "shell.execute_reply": "2024-01-08T22:06:01.834976Z"
        },
        "trusted": true,
        "id": "Ih60DkuJV-0u",
        "outputId": "8451206f-61c0-484e-ef2f-ca60f7ce09f9"
      },
      "execution_count": null,
      "outputs": [
        {
          "name": "stdout",
          "text": "dict_keys(['loss', 'accuracy', 'val_loss', 'val_accuracy'])\n",
          "output_type": "stream"
        },
        {
          "output_type": "display_data",
          "data": {
            "text/plain": "<Figure size 432x288 with 1 Axes>",
            "image/png": "[encoded data removed]"
          },
          "metadata": {
            "needs_background": "light"
          }
        },
        {
          "output_type": "display_data",
          "data": {
            "text/plain": "<Figure size 432x288 with 1 Axes>",
            "image/png": "[encoded data removed]"
          },
          "metadata": {
            "needs_background": "light"
          }
        }
      ]
    },
    {
      "cell_type": "code",
      "source": [
        "from sklearn.metrics import classification_report\n",
        "\n",
        "y_true = np.argmax(y_valid, axis = 1)\n",
        "X_valid = np.expand_dims(X_valid, axis = -1)\n",
        "y_pred = model.predict(X_valid)\n",
        "y_pred = np.argmax(y_pred, axis=1)\n",
        "labels = [0,1,2,3,4,5,6,7]\n",
        "target_names = dict_genres.keys()\n",
        "\n",
        "print(y_true.shape, y_pred.shape)\n",
        "print(classification_report(y_true, y_pred, target_names=target_names))\n"
      ],
      "metadata": {
        "execution": {
          "iopub.status.busy": "2024-01-08T22:06:01.836892Z",
          "iopub.execute_input": "2024-01-08T22:06:01.837114Z",
          "iopub.status.idle": "2024-01-08T22:06:04.256905Z",
          "shell.execute_reply.started": "2024-01-08T22:06:01.837087Z",
          "shell.execute_reply": "2024-01-08T22:06:04.256081Z"
        },
        "trusted": true,
        "id": "MGG1P8ItV-0v",
        "outputId": "fd96cb9e-f363-479c-b4c3-427999092f67"
      },
      "execution_count": null,
      "outputs": [
        {
          "name": "stdout",
          "text": "(4000,) (4000,)\n               precision    recall  f1-score   support\n\n   Electronic       0.42      0.56      0.48       500\n Experimental       0.35      0.50      0.41       500\n         Folk       0.59      0.66      0.62       500\n      Hip-Hop       0.67      0.48      0.56       500\n Instrumental       0.41      0.34      0.37       500\nInternational       0.59      0.47      0.53       500\n          Pop       0.15      0.14      0.15       500\n         Rock       0.66      0.55      0.60       500\n\n     accuracy                           0.46      4000\n    macro avg       0.48      0.46      0.46      4000\n weighted avg       0.48      0.46      0.46      4000\n\n",
          "output_type": "stream"
        }
      ]
    },
    {
      "cell_type": "code",
      "source": [
        "from sklearn.metrics import accuracy_score\n",
        "\n",
        "print(accuracy_score(y_true, y_pred))"
      ],
      "metadata": {
        "execution": {
          "iopub.status.busy": "2024-01-08T22:06:04.258145Z",
          "iopub.execute_input": "2024-01-08T22:06:04.258444Z",
          "iopub.status.idle": "2024-01-08T22:06:04.264548Z",
          "shell.execute_reply.started": "2024-01-08T22:06:04.258387Z",
          "shell.execute_reply": "2024-01-08T22:06:04.263558Z"
        },
        "trusted": true,
        "id": "4x9XxQjwV-0v",
        "outputId": "69d58810-5cfa-4fc3-ef27-fcee6fc43c81"
      },
      "execution_count": null,
      "outputs": [
        {
          "name": "stdout",
          "text": "0.46275\n",
          "output_type": "stream"
        }
      ]
    },
    {
      "cell_type": "markdown",
      "source": [
        "### Look at the Test Set"
      ],
      "metadata": {
        "id": "7Ht1P5QUV-07"
      }
    },
    {
      "cell_type": "code",
      "source": [
        "npzfile = np.load('../input/load-data1/test_arr.npz')\n",
        "print(npzfile.files)\n",
        "X_test = npzfile['arr_0']\n",
        "y_test = npzfile['arr_1']\n",
        "print(X_test.shape, y_test.shape)"
      ],
      "metadata": {
        "execution": {
          "iopub.status.busy": "2024-01-08T22:06:04.266172Z",
          "iopub.execute_input": "2024-01-08T22:06:04.266477Z",
          "iopub.status.idle": "2024-01-08T22:06:08.937575Z",
          "shell.execute_reply.started": "2024-01-08T22:06:04.266432Z",
          "shell.execute_reply": "2024-01-08T22:06:08.936770Z"
        },
        "trusted": true,
        "id": "tX2vS6yPV-08",
        "outputId": "1c5110bc-9f80-4cd9-beaf-7b56040a921f"
      },
      "execution_count": null,
      "outputs": [
        {
          "name": "stdout",
          "text": "['arr_0', 'arr_1']\n(800, 640, 128) (800,)\n",
          "output_type": "stream"
        }
      ]
    },
    {
      "cell_type": "code",
      "source": [
        "from keras.models import load_model\n",
        "\n",
        "weights_path = './weights.best.hdf5'\n",
        "model = load_model(weights_path)"
      ],
      "metadata": {
        "execution": {
          "iopub.status.busy": "2024-01-08T22:06:08.938768Z",
          "iopub.execute_input": "2024-01-08T22:06:08.939047Z",
          "iopub.status.idle": "2024-01-08T22:06:10.966503Z",
          "shell.execute_reply.started": "2024-01-08T22:06:08.939017Z",
          "shell.execute_reply": "2024-01-08T22:06:10.965787Z"
        },
        "trusted": true,
        "id": "Xmf6PzpNV-08"
      },
      "execution_count": null,
      "outputs": []
    },
    {
      "cell_type": "code",
      "source": [
        "y_test -= 1\n",
        "print(np.amin(y_test), np.amax(y_test), np.mean(y_test))"
      ],
      "metadata": {
        "execution": {
          "iopub.status.busy": "2024-01-08T22:06:10.968137Z",
          "iopub.execute_input": "2024-01-08T22:06:10.968845Z",
          "iopub.status.idle": "2024-01-08T22:06:10.974220Z",
          "shell.execute_reply.started": "2024-01-08T22:06:10.968802Z",
          "shell.execute_reply": "2024-01-08T22:06:10.973470Z"
        },
        "trusted": true,
        "id": "8EuQ_7GuV-08",
        "outputId": "88d5576c-4d67-47a9-8534-e7d41a97ba38"
      },
      "execution_count": null,
      "outputs": [
        {
          "name": "stdout",
          "text": "0 7 3.5\n",
          "output_type": "stream"
        }
      ]
    },
    {
      "cell_type": "code",
      "source": [
        "X_test_raw = librosa.core.db_to_power(X_test, ref=1.0)\n",
        "print(np.amin(X_test_raw), np.amax(X_test_raw), np.mean(X_test_raw))"
      ],
      "metadata": {
        "execution": {
          "iopub.status.busy": "2024-01-08T22:06:10.975225Z",
          "iopub.execute_input": "2024-01-08T22:06:10.975444Z",
          "iopub.status.idle": "2024-01-08T22:06:15.057745Z",
          "shell.execute_reply.started": "2024-01-08T22:06:10.975414Z",
          "shell.execute_reply": "2024-01-08T22:06:15.056919Z"
        },
        "trusted": true,
        "id": "MMVXtdEIV-09",
        "outputId": "bbb20d7d-d8b2-47e1-8d3c-313de00a018d"
      },
      "execution_count": null,
      "outputs": [
        {
          "name": "stdout",
          "text": "1e-08 1.0000000000000016 0.004623813018385694\n",
          "output_type": "stream"
        }
      ]
    },
    {
      "cell_type": "code",
      "source": [
        "X_test = np.log(X_test_raw)\n",
        "\n",
        "\n",
        "from sklearn.metrics import classification_report\n",
        "\n",
        "y_true = y_test\n",
        "X_test = np.expand_dims(X_test, axis = -1)\n",
        "y_pred = model.predict(X_test)\n",
        "y_pred = np.argmax(y_pred, axis=1)\n",
        "labels = [0,1,2,3,4,5,6,7]\n",
        "target_names = dict_genres.keys()\n",
        "\n",
        "print(y_true.shape, y_pred.shape)\n",
        "print(classification_report(y_true, y_pred, target_names=target_names))"
      ],
      "metadata": {
        "execution": {
          "iopub.status.busy": "2024-01-08T22:06:15.059043Z",
          "iopub.execute_input": "2024-01-08T22:06:15.059681Z",
          "iopub.status.idle": "2024-01-08T22:06:17.622522Z",
          "shell.execute_reply.started": "2024-01-08T22:06:15.059636Z",
          "shell.execute_reply": "2024-01-08T22:06:17.621450Z"
        },
        "trusted": true,
        "id": "Fr-IcTZjV-09",
        "outputId": "59c05763-04a1-4d3c-d804-8f7756c56884"
      },
      "execution_count": null,
      "outputs": [
        {
          "traceback": [
            "\u001b[0;31m---------------------------------------------------------------------------\u001b[0m",
            "\u001b[0;31mValueError\u001b[0m                                Traceback (most recent call last)",
            "\u001b[0;32m/tmp/ipykernel_20/4121953472.py\u001b[0m in \u001b[0;36m<module>\u001b[0;34m\u001b[0m\n\u001b[1;32m      6\u001b[0m \u001b[0my_true\u001b[0m \u001b[0;34m=\u001b[0m \u001b[0my_test\u001b[0m\u001b[0;34m\u001b[0m\u001b[0;34m\u001b[0m\u001b[0m\n\u001b[1;32m      7\u001b[0m \u001b[0mX_test\u001b[0m \u001b[0;34m=\u001b[0m \u001b[0mnp\u001b[0m\u001b[0;34m.\u001b[0m\u001b[0mexpand_dims\u001b[0m\u001b[0;34m(\u001b[0m\u001b[0mX_test\u001b[0m\u001b[0;34m,\u001b[0m \u001b[0maxis\u001b[0m \u001b[0;34m=\u001b[0m \u001b[0;34m-\u001b[0m\u001b[0;36m1\u001b[0m\u001b[0;34m)\u001b[0m\u001b[0;34m\u001b[0m\u001b[0;34m\u001b[0m\u001b[0m\n\u001b[0;32m----> 8\u001b[0;31m \u001b[0my_pred\u001b[0m \u001b[0;34m=\u001b[0m \u001b[0mmodel\u001b[0m\u001b[0;34m.\u001b[0m\u001b[0mpredict\u001b[0m\u001b[0;34m(\u001b[0m\u001b[0mX_test\u001b[0m\u001b[0;34m)\u001b[0m\u001b[0;34m\u001b[0m\u001b[0;34m\u001b[0m\u001b[0m\n\u001b[0m\u001b[1;32m      9\u001b[0m \u001b[0my_pred\u001b[0m \u001b[0;34m=\u001b[0m \u001b[0mnp\u001b[0m\u001b[0;34m.\u001b[0m\u001b[0margmax\u001b[0m\u001b[0;34m(\u001b[0m\u001b[0my_pred\u001b[0m\u001b[0;34m,\u001b[0m \u001b[0maxis\u001b[0m\u001b[0;34m=\u001b[0m\u001b[0;36m1\u001b[0m\u001b[0;34m)\u001b[0m\u001b[0;34m\u001b[0m\u001b[0;34m\u001b[0m\u001b[0m\n\u001b[1;32m     10\u001b[0m \u001b[0mlabels\u001b[0m \u001b[0;34m=\u001b[0m \u001b[0;34m[\u001b[0m\u001b[0;36m0\u001b[0m\u001b[0;34m,\u001b[0m\u001b[0;36m1\u001b[0m\u001b[0;34m,\u001b[0m\u001b[0;36m2\u001b[0m\u001b[0;34m,\u001b[0m\u001b[0;36m3\u001b[0m\u001b[0;34m,\u001b[0m\u001b[0;36m4\u001b[0m\u001b[0;34m,\u001b[0m\u001b[0;36m5\u001b[0m\u001b[0;34m,\u001b[0m\u001b[0;36m6\u001b[0m\u001b[0;34m,\u001b[0m\u001b[0;36m7\u001b[0m\u001b[0;34m]\u001b[0m\u001b[0;34m\u001b[0m\u001b[0;34m\u001b[0m\u001b[0m\n",
            "\u001b[0;32m/opt/conda/lib/python3.7/site-packages/keras/engine/training.py\u001b[0m in \u001b[0;36mpredict\u001b[0;34m(self, x, batch_size, verbose, steps, callbacks, max_queue_size, workers, use_multiprocessing)\u001b[0m\n\u001b[1;32m   1749\u001b[0m           \u001b[0;32mfor\u001b[0m \u001b[0mstep\u001b[0m \u001b[0;32min\u001b[0m \u001b[0mdata_handler\u001b[0m\u001b[0;34m.\u001b[0m\u001b[0msteps\u001b[0m\u001b[0;34m(\u001b[0m\u001b[0;34m)\u001b[0m\u001b[0;34m:\u001b[0m\u001b[0;34m\u001b[0m\u001b[0;34m\u001b[0m\u001b[0m\n\u001b[1;32m   1750\u001b[0m             \u001b[0mcallbacks\u001b[0m\u001b[0;34m.\u001b[0m\u001b[0mon_predict_batch_begin\u001b[0m\u001b[0;34m(\u001b[0m\u001b[0mstep\u001b[0m\u001b[0;34m)\u001b[0m\u001b[0;34m\u001b[0m\u001b[0;34m\u001b[0m\u001b[0m\n\u001b[0;32m-> 1751\u001b[0;31m             \u001b[0mtmp_batch_outputs\u001b[0m \u001b[0;34m=\u001b[0m \u001b[0mself\u001b[0m\u001b[0;34m.\u001b[0m\u001b[0mpredict_function\u001b[0m\u001b[0;34m(\u001b[0m\u001b[0miterator\u001b[0m\u001b[0;34m)\u001b[0m\u001b[0;34m\u001b[0m\u001b[0;34m\u001b[0m\u001b[0m\n\u001b[0m\u001b[1;32m   1752\u001b[0m             \u001b[0;32mif\u001b[0m \u001b[0mdata_handler\u001b[0m\u001b[0;34m.\u001b[0m\u001b[0mshould_sync\u001b[0m\u001b[0;34m:\u001b[0m\u001b[0;34m\u001b[0m\u001b[0;34m\u001b[0m\u001b[0m\n\u001b[1;32m   1753\u001b[0m               \u001b[0mcontext\u001b[0m\u001b[0;34m.\u001b[0m\u001b[0masync_wait\u001b[0m\u001b[0;34m(\u001b[0m\u001b[0;34m)\u001b[0m\u001b[0;34m\u001b[0m\u001b[0;34m\u001b[0m\u001b[0m\n",
            "\u001b[0;32m/opt/conda/lib/python3.7/site-packages/tensorflow/python/eager/def_function.py\u001b[0m in \u001b[0;36m__call__\u001b[0;34m(self, *args, **kwds)\u001b[0m\n\u001b[1;32m    883\u001b[0m \u001b[0;34m\u001b[0m\u001b[0m\n\u001b[1;32m    884\u001b[0m       \u001b[0;32mwith\u001b[0m \u001b[0mOptionalXlaContext\u001b[0m\u001b[0;34m(\u001b[0m\u001b[0mself\u001b[0m\u001b[0;34m.\u001b[0m\u001b[0m_jit_compile\u001b[0m\u001b[0;34m)\u001b[0m\u001b[0;34m:\u001b[0m\u001b[0;34m\u001b[0m\u001b[0;34m\u001b[0m\u001b[0m\n\u001b[0;32m--> 885\u001b[0;31m         \u001b[0mresult\u001b[0m \u001b[0;34m=\u001b[0m \u001b[0mself\u001b[0m\u001b[0;34m.\u001b[0m\u001b[0m_call\u001b[0m\u001b[0;34m(\u001b[0m\u001b[0;34m*\u001b[0m\u001b[0margs\u001b[0m\u001b[0;34m,\u001b[0m \u001b[0;34m**\u001b[0m\u001b[0mkwds\u001b[0m\u001b[0;34m)\u001b[0m\u001b[0;34m\u001b[0m\u001b[0;34m\u001b[0m\u001b[0m\n\u001b[0m\u001b[1;32m    886\u001b[0m \u001b[0;34m\u001b[0m\u001b[0m\n\u001b[1;32m    887\u001b[0m       \u001b[0mnew_tracing_count\u001b[0m \u001b[0;34m=\u001b[0m \u001b[0mself\u001b[0m\u001b[0;34m.\u001b[0m\u001b[0mexperimental_get_tracing_count\u001b[0m\u001b[0;34m(\u001b[0m\u001b[0;34m)\u001b[0m\u001b[0;34m\u001b[0m\u001b[0;34m\u001b[0m\u001b[0m\n",
            "\u001b[0;32m/opt/conda/lib/python3.7/site-packages/tensorflow/python/eager/def_function.py\u001b[0m in \u001b[0;36m_call\u001b[0;34m(self, *args, **kwds)\u001b[0m\n\u001b[1;32m    931\u001b[0m       \u001b[0;31m# This is the first call of __call__, so we have to initialize.\u001b[0m\u001b[0;34m\u001b[0m\u001b[0;34m\u001b[0m\u001b[0;34m\u001b[0m\u001b[0m\n\u001b[1;32m    932\u001b[0m       \u001b[0minitializers\u001b[0m \u001b[0;34m=\u001b[0m \u001b[0;34m[\u001b[0m\u001b[0;34m]\u001b[0m\u001b[0;34m\u001b[0m\u001b[0;34m\u001b[0m\u001b[0m\n\u001b[0;32m--> 933\u001b[0;31m       \u001b[0mself\u001b[0m\u001b[0;34m.\u001b[0m\u001b[0m_initialize\u001b[0m\u001b[0;34m(\u001b[0m\u001b[0margs\u001b[0m\u001b[0;34m,\u001b[0m \u001b[0mkwds\u001b[0m\u001b[0;34m,\u001b[0m \u001b[0madd_initializers_to\u001b[0m\u001b[0;34m=\u001b[0m\u001b[0minitializers\u001b[0m\u001b[0;34m)\u001b[0m\u001b[0;34m\u001b[0m\u001b[0;34m\u001b[0m\u001b[0m\n\u001b[0m\u001b[1;32m    934\u001b[0m     \u001b[0;32mfinally\u001b[0m\u001b[0;34m:\u001b[0m\u001b[0;34m\u001b[0m\u001b[0;34m\u001b[0m\u001b[0m\n\u001b[1;32m    935\u001b[0m       \u001b[0;31m# At this point we know that the initialization is complete (or less\u001b[0m\u001b[0;34m\u001b[0m\u001b[0;34m\u001b[0m\u001b[0;34m\u001b[0m\u001b[0m\n",
            "\u001b[0;32m/opt/conda/lib/python3.7/site-packages/tensorflow/python/eager/def_function.py\u001b[0m in \u001b[0;36m_initialize\u001b[0;34m(self, args, kwds, add_initializers_to)\u001b[0m\n\u001b[1;32m    758\u001b[0m     self._concrete_stateful_fn = (\n\u001b[1;32m    759\u001b[0m         self._stateful_fn._get_concrete_function_internal_garbage_collected(  # pylint: disable=protected-access\n\u001b[0;32m--> 760\u001b[0;31m             *args, **kwds))\n\u001b[0m\u001b[1;32m    761\u001b[0m \u001b[0;34m\u001b[0m\u001b[0m\n\u001b[1;32m    762\u001b[0m     \u001b[0;32mdef\u001b[0m \u001b[0minvalid_creator_scope\u001b[0m\u001b[0;34m(\u001b[0m\u001b[0;34m*\u001b[0m\u001b[0munused_args\u001b[0m\u001b[0;34m,\u001b[0m \u001b[0;34m**\u001b[0m\u001b[0munused_kwds\u001b[0m\u001b[0;34m)\u001b[0m\u001b[0;34m:\u001b[0m\u001b[0;34m\u001b[0m\u001b[0;34m\u001b[0m\u001b[0m\n",
            "\u001b[0;32m/opt/conda/lib/python3.7/site-packages/tensorflow/python/eager/function.py\u001b[0m in \u001b[0;36m_get_concrete_function_internal_garbage_collected\u001b[0;34m(self, *args, **kwargs)\u001b[0m\n\u001b[1;32m   3064\u001b[0m       \u001b[0margs\u001b[0m\u001b[0;34m,\u001b[0m \u001b[0mkwargs\u001b[0m \u001b[0;34m=\u001b[0m \u001b[0;32mNone\u001b[0m\u001b[0;34m,\u001b[0m \u001b[0;32mNone\u001b[0m\u001b[0;34m\u001b[0m\u001b[0;34m\u001b[0m\u001b[0m\n\u001b[1;32m   3065\u001b[0m     \u001b[0;32mwith\u001b[0m \u001b[0mself\u001b[0m\u001b[0;34m.\u001b[0m\u001b[0m_lock\u001b[0m\u001b[0;34m:\u001b[0m\u001b[0;34m\u001b[0m\u001b[0;34m\u001b[0m\u001b[0m\n\u001b[0;32m-> 3066\u001b[0;31m       \u001b[0mgraph_function\u001b[0m\u001b[0;34m,\u001b[0m \u001b[0m_\u001b[0m \u001b[0;34m=\u001b[0m \u001b[0mself\u001b[0m\u001b[0;34m.\u001b[0m\u001b[0m_maybe_define_function\u001b[0m\u001b[0;34m(\u001b[0m\u001b[0margs\u001b[0m\u001b[0;34m,\u001b[0m \u001b[0mkwargs\u001b[0m\u001b[0;34m)\u001b[0m\u001b[0;34m\u001b[0m\u001b[0;34m\u001b[0m\u001b[0m\n\u001b[0m\u001b[1;32m   3067\u001b[0m     \u001b[0;32mreturn\u001b[0m \u001b[0mgraph_function\u001b[0m\u001b[0;34m\u001b[0m\u001b[0;34m\u001b[0m\u001b[0m\n\u001b[1;32m   3068\u001b[0m \u001b[0;34m\u001b[0m\u001b[0m\n",
            "\u001b[0;32m/opt/conda/lib/python3.7/site-packages/tensorflow/python/eager/function.py\u001b[0m in \u001b[0;36m_maybe_define_function\u001b[0;34m(self, args, kwargs)\u001b[0m\n\u001b[1;32m   3461\u001b[0m \u001b[0;34m\u001b[0m\u001b[0m\n\u001b[1;32m   3462\u001b[0m           \u001b[0mself\u001b[0m\u001b[0;34m.\u001b[0m\u001b[0m_function_cache\u001b[0m\u001b[0;34m.\u001b[0m\u001b[0mmissed\u001b[0m\u001b[0;34m.\u001b[0m\u001b[0madd\u001b[0m\u001b[0;34m(\u001b[0m\u001b[0mcall_context_key\u001b[0m\u001b[0;34m)\u001b[0m\u001b[0;34m\u001b[0m\u001b[0;34m\u001b[0m\u001b[0m\n\u001b[0;32m-> 3463\u001b[0;31m           \u001b[0mgraph_function\u001b[0m \u001b[0;34m=\u001b[0m \u001b[0mself\u001b[0m\u001b[0;34m.\u001b[0m\u001b[0m_create_graph_function\u001b[0m\u001b[0;34m(\u001b[0m\u001b[0margs\u001b[0m\u001b[0;34m,\u001b[0m \u001b[0mkwargs\u001b[0m\u001b[0;34m)\u001b[0m\u001b[0;34m\u001b[0m\u001b[0;34m\u001b[0m\u001b[0m\n\u001b[0m\u001b[1;32m   3464\u001b[0m           \u001b[0mself\u001b[0m\u001b[0;34m.\u001b[0m\u001b[0m_function_cache\u001b[0m\u001b[0;34m.\u001b[0m\u001b[0mprimary\u001b[0m\u001b[0;34m[\u001b[0m\u001b[0mcache_key\u001b[0m\u001b[0;34m]\u001b[0m \u001b[0;34m=\u001b[0m \u001b[0mgraph_function\u001b[0m\u001b[0;34m\u001b[0m\u001b[0;34m\u001b[0m\u001b[0m\n\u001b[1;32m   3465\u001b[0m \u001b[0;34m\u001b[0m\u001b[0m\n",
            "\u001b[0;32m/opt/conda/lib/python3.7/site-packages/tensorflow/python/eager/function.py\u001b[0m in \u001b[0;36m_create_graph_function\u001b[0;34m(self, args, kwargs, override_flat_arg_shapes)\u001b[0m\n\u001b[1;32m   3306\u001b[0m             \u001b[0marg_names\u001b[0m\u001b[0;34m=\u001b[0m\u001b[0marg_names\u001b[0m\u001b[0;34m,\u001b[0m\u001b[0;34m\u001b[0m\u001b[0;34m\u001b[0m\u001b[0m\n\u001b[1;32m   3307\u001b[0m             \u001b[0moverride_flat_arg_shapes\u001b[0m\u001b[0;34m=\u001b[0m\u001b[0moverride_flat_arg_shapes\u001b[0m\u001b[0;34m,\u001b[0m\u001b[0;34m\u001b[0m\u001b[0;34m\u001b[0m\u001b[0m\n\u001b[0;32m-> 3308\u001b[0;31m             capture_by_value=self._capture_by_value),\n\u001b[0m\u001b[1;32m   3309\u001b[0m         \u001b[0mself\u001b[0m\u001b[0;34m.\u001b[0m\u001b[0m_function_attributes\u001b[0m\u001b[0;34m,\u001b[0m\u001b[0;34m\u001b[0m\u001b[0;34m\u001b[0m\u001b[0m\n\u001b[1;32m   3310\u001b[0m         \u001b[0mfunction_spec\u001b[0m\u001b[0;34m=\u001b[0m\u001b[0mself\u001b[0m\u001b[0;34m.\u001b[0m\u001b[0mfunction_spec\u001b[0m\u001b[0;34m,\u001b[0m\u001b[0;34m\u001b[0m\u001b[0;34m\u001b[0m\u001b[0m\n",
            "\u001b[0;32m/opt/conda/lib/python3.7/site-packages/tensorflow/python/framework/func_graph.py\u001b[0m in \u001b[0;36mfunc_graph_from_py_func\u001b[0;34m(name, python_func, args, kwargs, signature, func_graph, autograph, autograph_options, add_control_dependencies, arg_names, op_return_value, collections, capture_by_value, override_flat_arg_shapes, acd_record_initial_resource_uses)\u001b[0m\n\u001b[1;32m   1005\u001b[0m         \u001b[0m_\u001b[0m\u001b[0;34m,\u001b[0m \u001b[0moriginal_func\u001b[0m \u001b[0;34m=\u001b[0m \u001b[0mtf_decorator\u001b[0m\u001b[0;34m.\u001b[0m\u001b[0munwrap\u001b[0m\u001b[0;34m(\u001b[0m\u001b[0mpython_func\u001b[0m\u001b[0;34m)\u001b[0m\u001b[0;34m\u001b[0m\u001b[0;34m\u001b[0m\u001b[0m\n\u001b[1;32m   1006\u001b[0m \u001b[0;34m\u001b[0m\u001b[0m\n\u001b[0;32m-> 1007\u001b[0;31m       \u001b[0mfunc_outputs\u001b[0m \u001b[0;34m=\u001b[0m \u001b[0mpython_func\u001b[0m\u001b[0;34m(\u001b[0m\u001b[0;34m*\u001b[0m\u001b[0mfunc_args\u001b[0m\u001b[0;34m,\u001b[0m \u001b[0;34m**\u001b[0m\u001b[0mfunc_kwargs\u001b[0m\u001b[0;34m)\u001b[0m\u001b[0;34m\u001b[0m\u001b[0;34m\u001b[0m\u001b[0m\n\u001b[0m\u001b[1;32m   1008\u001b[0m \u001b[0;34m\u001b[0m\u001b[0m\n\u001b[1;32m   1009\u001b[0m       \u001b[0;31m# invariant: `func_outputs` contains only Tensors, CompositeTensors,\u001b[0m\u001b[0;34m\u001b[0m\u001b[0;34m\u001b[0m\u001b[0;34m\u001b[0m\u001b[0m\n",
            "\u001b[0;32m/opt/conda/lib/python3.7/site-packages/tensorflow/python/eager/def_function.py\u001b[0m in \u001b[0;36mwrapped_fn\u001b[0;34m(*args, **kwds)\u001b[0m\n\u001b[1;32m    666\u001b[0m         \u001b[0;31m# the function a weak reference to itself to avoid a reference cycle.\u001b[0m\u001b[0;34m\u001b[0m\u001b[0;34m\u001b[0m\u001b[0;34m\u001b[0m\u001b[0m\n\u001b[1;32m    667\u001b[0m         \u001b[0;32mwith\u001b[0m \u001b[0mOptionalXlaContext\u001b[0m\u001b[0;34m(\u001b[0m\u001b[0mcompile_with_xla\u001b[0m\u001b[0;34m)\u001b[0m\u001b[0;34m:\u001b[0m\u001b[0;34m\u001b[0m\u001b[0;34m\u001b[0m\u001b[0m\n\u001b[0;32m--> 668\u001b[0;31m           \u001b[0mout\u001b[0m \u001b[0;34m=\u001b[0m \u001b[0mweak_wrapped_fn\u001b[0m\u001b[0;34m(\u001b[0m\u001b[0;34m)\u001b[0m\u001b[0;34m.\u001b[0m\u001b[0m__wrapped__\u001b[0m\u001b[0;34m(\u001b[0m\u001b[0;34m*\u001b[0m\u001b[0margs\u001b[0m\u001b[0;34m,\u001b[0m \u001b[0;34m**\u001b[0m\u001b[0mkwds\u001b[0m\u001b[0;34m)\u001b[0m\u001b[0;34m\u001b[0m\u001b[0;34m\u001b[0m\u001b[0m\n\u001b[0m\u001b[1;32m    669\u001b[0m         \u001b[0;32mreturn\u001b[0m \u001b[0mout\u001b[0m\u001b[0;34m\u001b[0m\u001b[0;34m\u001b[0m\u001b[0m\n\u001b[1;32m    670\u001b[0m \u001b[0;34m\u001b[0m\u001b[0m\n",
            "\u001b[0;32m/opt/conda/lib/python3.7/site-packages/tensorflow/python/framework/func_graph.py\u001b[0m in \u001b[0;36mwrapper\u001b[0;34m(*args, **kwargs)\u001b[0m\n\u001b[1;32m    992\u001b[0m           \u001b[0;32mexcept\u001b[0m \u001b[0mException\u001b[0m \u001b[0;32mas\u001b[0m \u001b[0me\u001b[0m\u001b[0;34m:\u001b[0m  \u001b[0;31m# pylint:disable=broad-except\u001b[0m\u001b[0;34m\u001b[0m\u001b[0;34m\u001b[0m\u001b[0m\n\u001b[1;32m    993\u001b[0m             \u001b[0;32mif\u001b[0m \u001b[0mhasattr\u001b[0m\u001b[0;34m(\u001b[0m\u001b[0me\u001b[0m\u001b[0;34m,\u001b[0m \u001b[0;34m\"ag_error_metadata\"\u001b[0m\u001b[0;34m)\u001b[0m\u001b[0;34m:\u001b[0m\u001b[0;34m\u001b[0m\u001b[0;34m\u001b[0m\u001b[0m\n\u001b[0;32m--> 994\u001b[0;31m               \u001b[0;32mraise\u001b[0m \u001b[0me\u001b[0m\u001b[0;34m.\u001b[0m\u001b[0mag_error_metadata\u001b[0m\u001b[0;34m.\u001b[0m\u001b[0mto_exception\u001b[0m\u001b[0;34m(\u001b[0m\u001b[0me\u001b[0m\u001b[0;34m)\u001b[0m\u001b[0;34m\u001b[0m\u001b[0;34m\u001b[0m\u001b[0m\n\u001b[0m\u001b[1;32m    995\u001b[0m             \u001b[0;32melse\u001b[0m\u001b[0;34m:\u001b[0m\u001b[0;34m\u001b[0m\u001b[0;34m\u001b[0m\u001b[0m\n\u001b[1;32m    996\u001b[0m               \u001b[0;32mraise\u001b[0m\u001b[0;34m\u001b[0m\u001b[0;34m\u001b[0m\u001b[0m\n",
            "\u001b[0;31mValueError\u001b[0m: in user code:\n\n    /opt/conda/lib/python3.7/site-packages/keras/engine/training.py:1586 predict_function  *\n        return step_function(self, iterator)\n    /opt/conda/lib/python3.7/site-packages/keras/engine/training.py:1576 step_function  **\n        outputs = model.distribute_strategy.run(run_step, args=(data,))\n    /opt/conda/lib/python3.7/site-packages/tensorflow/python/distribute/distribute_lib.py:1286 run\n        return self._extended.call_for_each_replica(fn, args=args, kwargs=kwargs)\n    /opt/conda/lib/python3.7/site-packages/tensorflow/python/distribute/distribute_lib.py:2849 call_for_each_replica\n        return self._call_for_each_replica(fn, args, kwargs)\n    /opt/conda/lib/python3.7/site-packages/tensorflow/python/distribute/distribute_lib.py:3632 _call_for_each_replica\n        return fn(*args, **kwargs)\n    /opt/conda/lib/python3.7/site-packages/keras/engine/training.py:1569 run_step  **\n        outputs = model.predict_step(data)\n    /opt/conda/lib/python3.7/site-packages/keras/engine/training.py:1537 predict_step\n        return self(x, training=False)\n    /opt/conda/lib/python3.7/site-packages/keras/engine/base_layer.py:1020 __call__\n        input_spec.assert_input_compatibility(self.input_spec, inputs, self.name)\n    /opt/conda/lib/python3.7/site-packages/keras/engine/input_spec.py:269 assert_input_compatibility\n        ', found shape=' + display_shape(x.shape))\n\n    ValueError: Input 0 is incompatible with layer model: expected shape=(None, 128, 128, 1), found shape=(32, 640, 128, 1)\n"
          ],
          "ename": "ValueError",
          "evalue": "in user code:\n\n    /opt/conda/lib/python3.7/site-packages/keras/engine/training.py:1586 predict_function  *\n        return step_function(self, iterator)\n    /opt/conda/lib/python3.7/site-packages/keras/engine/training.py:1576 step_function  **\n        outputs = model.distribute_strategy.run(run_step, args=(data,))\n    /opt/conda/lib/python3.7/site-packages/tensorflow/python/distribute/distribute_lib.py:1286 run\n        return self._extended.call_for_each_replica(fn, args=args, kwargs=kwargs)\n    /opt/conda/lib/python3.7/site-packages/tensorflow/python/distribute/distribute_lib.py:2849 call_for_each_replica\n        return self._call_for_each_replica(fn, args, kwargs)\n    /opt/conda/lib/python3.7/site-packages/tensorflow/python/distribute/distribute_lib.py:3632 _call_for_each_replica\n        return fn(*args, **kwargs)\n    /opt/conda/lib/python3.7/site-packages/keras/engine/training.py:1569 run_step  **\n        outputs = model.predict_step(data)\n    /opt/conda/lib/python3.7/site-packages/keras/engine/training.py:1537 predict_step\n        return self(x, training=False)\n    /opt/conda/lib/python3.7/site-packages/keras/engine/base_layer.py:1020 __call__\n        input_spec.assert_input_compatibility(self.input_spec, inputs, self.name)\n    /opt/conda/lib/python3.7/site-packages/keras/engine/input_spec.py:269 assert_input_compatibility\n        ', found shape=' + display_shape(x.shape))\n\n    ValueError: Input 0 is incompatible with layer model: expected shape=(None, 128, 128, 1), found shape=(32, 640, 128, 1)\n",
          "output_type": "error"
        }
      ]
    },
    {
      "cell_type": "code",
      "source": [
        "from sklearn.metrics import confusion_matrix\n",
        "import seaborn as sns\n",
        "\n",
        "\n",
        "mat = confusion_matrix(y_true, y_pred)\n",
        "sns.heatmap(mat.T, square=True, annot=True, fmt='d', cbar=False,\n",
        "            xticklabels=dict_genres.keys(),\n",
        "            yticklabels=dict_genres.keys())\n",
        "plt.xlabel('true label')\n",
        "plt.ylabel('predicted label');"
      ],
      "metadata": {
        "execution": {
          "iopub.status.busy": "2024-01-08T22:06:17.623275Z",
          "iopub.status.idle": "2024-01-08T22:06:17.623589Z",
          "shell.execute_reply.started": "2024-01-08T22:06:17.623414Z",
          "shell.execute_reply": "2024-01-08T22:06:17.623430Z"
        },
        "trusted": true,
        "id": "6xqhRHa8V-09"
      },
      "execution_count": null,
      "outputs": []
    },
    {
      "cell_type": "code",
      "source": [
        "from sklearn.metrics import accuracy_score\n",
        "print(accuracy_score(y_true, y_pred))"
      ],
      "metadata": {
        "execution": {
          "iopub.status.busy": "2024-01-08T22:06:17.625016Z",
          "iopub.status.idle": "2024-01-08T22:06:17.625349Z",
          "shell.execute_reply.started": "2024-01-08T22:06:17.625170Z",
          "shell.execute_reply": "2024-01-08T22:06:17.625194Z"
        },
        "trusted": true,
        "id": "ErTBR50vV-0-"
      },
      "execution_count": null,
      "outputs": []
    },
    {
      "cell_type": "code",
      "source": [],
      "metadata": {
        "id": "P40Quxu1V-0-"
      },
      "execution_count": null,
      "outputs": []
    },
    {
      "cell_type": "code",
      "source": [],
      "metadata": {
        "id": "XdYO-adrV-0-"
      },
      "execution_count": null,
      "outputs": []
    },
    {
      "cell_type": "code",
      "source": [],
      "metadata": {
        "id": "dv5b83rlV-0_"
      },
      "execution_count": null,
      "outputs": []
    }
  ]
}